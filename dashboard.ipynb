{
  "cells": [
    {
      "cell_type": "code",
      "execution_count": 1,
      "metadata": {
        "colab": {
          "base_uri": "https://localhost:8080/"
        },
        "id": "B7BhFqvu95Ye",
        "outputId": "6c6130f3-9886-4276-83a9-836e5965d72f"
      },
      "outputs": [
        {
          "name": "stderr",
          "output_type": "stream",
          "text": [
            "2024-10-02 23:08:05.400 \n",
            "  \u001b[33m\u001b[1mWarning:\u001b[0m to view this Streamlit app on a browser, run it with the following\n",
            "  command:\n",
            "\n",
            "    streamlit run c:\\Users\\cari3\\anaconda3\\envs\\gg\\Lib\\site-packages\\ipykernel_launcher.py [ARGUMENTS]\n"
          ]
        },
        {
          "data": {
            "text/plain": [
              "DeltaGenerator()"
            ]
          },
          "execution_count": 1,
          "metadata": {},
          "output_type": "execute_result"
        }
      ],
      "source": [
        "import streamlit as st\n",
        "import pandas as pd\n",
        "import plotly.express as px\n",
        "\n",
        "#Carregar os dados do arquivo CSV\n",
        "df_socialmedia = pd.read_csv('socialmedia.csv')\n",
        "\n",
        "#Título do Dashboard\n",
        "st.title('Análise de Uso de Mídias Sociais')\n",
        "\n",
        "#Duração de Uso por Usuário\n",
        "st.header('Duração de Uso por Usuário')\n",
        "fig_user_usage = px.bar(\n",
        "    df_socialmedia,\n",
        "    x='UserId',\n",
        "    y='UsageDuraiton',\n",
        "    title='Duração de Uso por Usuário'\n",
        ")\n",
        "st.plotly_chart(fig_user_usage)\n",
        "\n",
        "#Tempo de Uso por País\n",
        "st.header('Tempo de Uso por País')\n",
        "country_usage = df_socialmedia.groupby('Country')['UsageDuraiton'].sum().reset_index()\n",
        "fig_country_usage = px.bar(\n",
        "    country_usage,\n",
        "    x='Country',\n",
        "    y='UsageDuraiton',\n",
        "    title='Tempo Total de Uso por País'\n",
        ")\n",
        "st.plotly_chart(fig_country_usage)\n",
        "\n",
        "#Relação entre Idade e Duração de Uso\n",
        "st.header('Relação entre Idade e Duração de Uso')\n",
        "fig_age_usage = px.scatter(\n",
        "    df_socialmedia,\n",
        "    x='Age',\n",
        "    y='UsageDuraiton',\n",
        "    trendline='ols',\n",
        "    title='Idade vs Duração de Uso'\n",
        ")\n",
        "st.plotly_chart(fig_age_usage)"
      ]
    }
  ],
  "metadata": {
    "colab": {
      "provenance": []
    },
    "kernelspec": {
      "display_name": "Python 3",
      "name": "python3"
    },
    "language_info": {
      "codemirror_mode": {
        "name": "ipython",
        "version": 3
      },
      "file_extension": ".py",
      "mimetype": "text/x-python",
      "name": "python",
      "nbconvert_exporter": "python",
      "pygments_lexer": "ipython3",
      "version": "3.12.5"
    }
  },
  "nbformat": 4,
  "nbformat_minor": 0
}
